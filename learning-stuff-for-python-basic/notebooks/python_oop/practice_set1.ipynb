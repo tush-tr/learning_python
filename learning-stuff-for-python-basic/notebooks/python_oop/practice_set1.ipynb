{
 "cells": [
  {
   "cell_type": "code",
   "execution_count": 1,
   "metadata": {},
   "outputs": [
    {
     "data": {
      "text/plain": [
       "21"
      ]
     },
     "execution_count": 1,
     "metadata": {},
     "output_type": "execute_result"
    }
   ],
   "source": [
    "\n",
    "\n",
    "def centuryFromYear(year):\n",
    "    if year%100 ==0:\n",
    "        return year/100\n",
    "    else:\n",
    "        return (year//100)+1\n",
    "\n",
    "centuryFromYear(2001)"
   ]
  },
  {
   "cell_type": "code",
   "execution_count": 8,
   "metadata": {},
   "outputs": [
    {
     "data": {
      "text/plain": [
       "[9, 7]"
      ]
     },
     "execution_count": 8,
     "metadata": {},
     "output_type": "execute_result"
    }
   ],
   "source": [
    "def return_unique(lst):\n",
    "        dup = set()\n",
    "        for i in lst:\n",
    "             if i not in dup:\n",
    "                dup.add(i)\n",
    "        for i in lst:\n",
    "            if i in dup:\n",
    "                lst.remove(i)\n",
    "                lst.remove(i)\n",
    "        return lst\n",
    "        \n",
    "return_unique([1, 9, 8, 8, 7, 6, 1, 6])"
   ]
  },
  {
   "cell_type": "code",
   "execution_count": 9,
   "metadata": {},
   "outputs": [
    {
     "data": {
      "text/plain": [
       "[1, 2, 3, 4]"
      ]
     },
     "execution_count": 9,
     "metadata": {},
     "output_type": "execute_result"
    }
   ],
   "source": [
    "def filter_list(l):\n",
    "        s=0\n",
    "        while(s!=len(l)):\n",
    "            if type(l[s]) is str:\n",
    "                l.remove(l[s])\n",
    "                continue\n",
    "            s += 1\n",
    "        return l\n",
    "filter_list([1, 2, 3, \"a\", \"b\", 4])"
   ]
  },
  {
   "cell_type": "code",
   "execution_count": null,
   "metadata": {},
   "outputs": [],
   "source": []
  }
 ],
 "metadata": {
  "kernelspec": {
   "display_name": "Python 3",
   "language": "python",
   "name": "python3"
  },
  "language_info": {
   "codemirror_mode": {
    "name": "ipython",
    "version": 3
   },
   "file_extension": ".py",
   "mimetype": "text/x-python",
   "name": "python",
   "nbconvert_exporter": "python",
   "pygments_lexer": "ipython3",
   "version": "3.8.2"
  }
 },
 "nbformat": 4,
 "nbformat_minor": 4
}
