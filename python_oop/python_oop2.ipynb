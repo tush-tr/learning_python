{
 "cells": [
  {
   "cell_type": "markdown",
   "metadata": {},
   "source": [
    "# Creating Classes and objects in python"
   ]
  },
  {
   "cell_type": "markdown",
   "metadata": {},
   "source": [
    "everything in Python is an object.<br>\n",
    "Integers, strings, functions, modules all these are objects in Python.<br>\n",
    "When you define a function, a function object is created, similarly when you define a class, a class object is created.And these objects that are created from the class are called instance objects or just instances.<br>\n",
    "Conventionally the class names begin with a capital letter and are generally singular nouns."
   ]
  },
  {
   "cell_type": "markdown",
   "metadata": {},
   "source": [
    "## Syntax of creating Classes in Python"
   ]
  },
  {
   "cell_type": "code",
   "execution_count": 3,
   "metadata": {},
   "outputs": [],
   "source": [
    "class Person:\n",
    "    pass"
   ]
  },
  {
   "cell_type": "code",
   "execution_count": 5,
   "metadata": {},
   "outputs": [
    {
     "data": {
      "text/plain": [
       "30337648"
      ]
     },
     "execution_count": 5,
     "metadata": {},
     "output_type": "execute_result"
    }
   ],
   "source": [
    "id(Person)"
   ]
  },
  {
   "cell_type": "code",
   "execution_count": 6,
   "metadata": {},
   "outputs": [],
   "source": [
    "#Instance objects\n",
    "p1 = Person()\n",
    "p2 = Person()"
   ]
  },
  {
   "cell_type": "code",
   "execution_count": 7,
   "metadata": {},
   "outputs": [
    {
     "data": {
      "text/plain": [
       "140228137974896"
      ]
     },
     "execution_count": 7,
     "metadata": {},
     "output_type": "execute_result"
    }
   ],
   "source": [
    "id(p1)"
   ]
  },
  {
   "cell_type": "code",
   "execution_count": 8,
   "metadata": {},
   "outputs": [
    {
     "data": {
      "text/plain": [
       "__main__.Person"
      ]
     },
     "execution_count": 8,
     "metadata": {},
     "output_type": "execute_result"
    }
   ],
   "source": [
    "type(p1)"
   ]
  },
  {
   "cell_type": "markdown",
   "metadata": {},
   "source": [
    "### Adding Methods to the class"
   ]
  },
  {
   "cell_type": "code",
   "execution_count": 17,
   "metadata": {},
   "outputs": [],
   "source": [
    "class Person:\n",
    "    def display(self): # methods\n",
    "        print(\"I am a person\")\n",
    "    def greet(self):\n",
    "        print(\"Hello,What are you doing?\")\n",
    "    "
   ]
  },
  {
   "cell_type": "code",
   "execution_count": 18,
   "metadata": {},
   "outputs": [],
   "source": [
    "#Calling methods\n",
    "p1 = Person()\n",
    "p2 = Person()"
   ]
  },
  {
   "cell_type": "code",
   "execution_count": 19,
   "metadata": {},
   "outputs": [
    {
     "name": "stdout",
     "output_type": "stream",
     "text": [
      "I am a person\n",
      "Hello,What are you doing?\n"
     ]
    }
   ],
   "source": [
    "p1.display()\n",
    "p1.greet()"
   ]
  },
  {
   "cell_type": "code",
   "execution_count": 20,
   "metadata": {},
   "outputs": [
    {
     "name": "stdout",
     "output_type": "stream",
     "text": [
      "I am a person\n",
      "Hello,What are you doing?\n"
     ]
    }
   ],
   "source": [
    "p2.display()\n",
    "p2.greet()"
   ]
  },
  {
   "cell_type": "markdown",
   "metadata": {},
   "source": [
    "#### Self parameter"
   ]
  },
  {
   "cell_type": "markdown",
   "metadata": {},
   "source": [
    "All the methods inside a class should have this first parameter self.\n",
    "<br>\n",
    "Python uses this parameter to identify the instance object that calls the method.\n",
    "You can use any other name instead of self, but using self is a convention and it is a very strong convention so it is better to stick with this name."
   ]
  },
  {
   "cell_type": "code",
   "execution_count": 25,
   "metadata": {},
   "outputs": [],
   "source": [
    "class checkself:\n",
    "    def showing(self):\n",
    "        print(\"This is self parameter\",self)"
   ]
  },
  {
   "cell_type": "code",
   "execution_count": 26,
   "metadata": {},
   "outputs": [
    {
     "name": "stdout",
     "output_type": "stream",
     "text": [
      "This is self parameter <__main__.checkself object at 0x7f89684d0ac0>\n"
     ]
    }
   ],
   "source": [
    "check=checkself()\n",
    "check.showing()"
   ]
  },
  {
   "cell_type": "markdown",
   "metadata": {},
   "source": [
    "Python provides the instance that called the method as the argument for this parameter self.Although you specify this self parameter in the method definition, you don’t have to provide a value for it when calling the method."
   ]
  },
  {
   "cell_type": "markdown",
   "metadata": {},
   "source": [
    "### Adding data\n",
    "we add data in the form of instance variables.\n",
    "We know that in Python a variable is created by assignment, it comes into existence when it is first assigned, there is no need to declare it."
   ]
  },
  {
   "cell_type": "code",
   "execution_count": 27,
   "metadata": {},
   "outputs": [],
   "source": [
    "p1.name = 'Tom'"
   ]
  },
  {
   "cell_type": "code",
   "execution_count": 28,
   "metadata": {},
   "outputs": [
    {
     "data": {
      "text/plain": [
       "'Tom'"
      ]
     },
     "execution_count": 28,
     "metadata": {},
     "output_type": "execute_result"
    }
   ],
   "source": [
    "p1.name"
   ]
  },
  {
   "cell_type": "code",
   "execution_count": 29,
   "metadata": {},
   "outputs": [
    {
     "ename": "AttributeError",
     "evalue": "'Person' object has no attribute 'name'",
     "output_type": "error",
     "traceback": [
      "\u001b[0;31m---------------------------------------------------------------------------\u001b[0m",
      "\u001b[0;31mAttributeError\u001b[0m                            Traceback (most recent call last)",
      "\u001b[0;32m<ipython-input-29-1fe4036a7206>\u001b[0m in \u001b[0;36m<module>\u001b[0;34m\u001b[0m\n\u001b[0;32m----> 1\u001b[0;31m \u001b[0mp2\u001b[0m\u001b[0;34m.\u001b[0m\u001b[0mname\u001b[0m\u001b[0;34m\u001b[0m\u001b[0;34m\u001b[0m\u001b[0m\n\u001b[0m",
      "\u001b[0;31mAttributeError\u001b[0m: 'Person' object has no attribute 'name'"
     ]
    }
   ],
   "source": [
    "p2.name"
   ]
  },
  {
   "cell_type": "markdown",
   "metadata": {},
   "source": [
    "We want all the instance objects to have same variables.\n",
    "So we will not attach the instance variables like this outside the class, we will attach\n",
    "them inside the class methods."
   ]
  },
  {
   "cell_type": "code",
   "execution_count": 30,
   "metadata": {},
   "outputs": [],
   "source": [
    "class Person:\n",
    "    def set_details(self):\n",
    "        self.name = \"John\"\n",
    "        self.age = 20\n",
    "    def display(self):\n",
    "        print(\"I am a person\")\n",
    "    def greet(self):\n",
    "        print(\"Hii, How are you bro!\")"
   ]
  },
  {
   "cell_type": "code",
   "execution_count": 31,
   "metadata": {},
   "outputs": [],
   "source": [
    "p3 = Person()"
   ]
  },
  {
   "cell_type": "code",
   "execution_count": 37,
   "metadata": {},
   "outputs": [],
   "source": [
    "p3.set_details()"
   ]
  },
  {
   "cell_type": "code",
   "execution_count": 38,
   "metadata": {},
   "outputs": [
    {
     "data": {
      "text/plain": [
       "'John'"
      ]
     },
     "execution_count": 38,
     "metadata": {},
     "output_type": "execute_result"
    }
   ],
   "source": [
    "p3.name"
   ]
  },
  {
   "cell_type": "code",
   "execution_count": 39,
   "metadata": {},
   "outputs": [
    {
     "data": {
      "text/plain": [
       "20"
      ]
     },
     "execution_count": 39,
     "metadata": {},
     "output_type": "execute_result"
    }
   ],
   "source": [
    "p3.age"
   ]
  },
  {
   "cell_type": "code",
   "execution_count": 40,
   "metadata": {},
   "outputs": [],
   "source": [
    "p3.name = \"Tushar\"\n",
    "p3.age = 20"
   ]
  },
  {
   "cell_type": "code",
   "execution_count": 41,
   "metadata": {},
   "outputs": [
    {
     "data": {
      "text/plain": [
       "'Tushar'"
      ]
     },
     "execution_count": 41,
     "metadata": {},
     "output_type": "execute_result"
    }
   ],
   "source": [
    "p3.name\n"
   ]
  },
  {
   "cell_type": "markdown",
   "metadata": {},
   "source": [
    "each instance has its own copy of instance variables and these variables define the state of the instance objects."
   ]
  },
  {
   "cell_type": "markdown",
   "metadata": {},
   "source": [
    "We would generally want to assign different values to different instance objects.<br>\n",
    "So to make this method more flexible we will add two parameters here name and age.<br>\n",
    "And now here we assign name to self.name and age to self.age."
   ]
  },
  {
   "cell_type": "code",
   "execution_count": 1,
   "metadata": {},
   "outputs": [],
   "source": [
    "class Person:\n",
    "    def set_details(self,name,age):\n",
    "        self.name = name\n",
    "        self.age = age\n",
    "    def display(self):\n",
    "        print(\"I am a person\")\n",
    "    def greet(self):\n",
    "        print(\"Hii, How are you bro!\")"
   ]
  },
  {
   "cell_type": "markdown",
   "metadata": {},
   "source": [
    "self.name and self.age are instance variables while this name and age are parameters ofthis method so they are just local variables inside this method."
   ]
  },
  {
   "cell_type": "code",
   "execution_count": 12,
   "metadata": {},
   "outputs": [],
   "source": [
    "p = Person()\n",
    "p.set_details('Tushar',20)"
   ]
  },
  {
   "cell_type": "code",
   "execution_count": 13,
   "metadata": {},
   "outputs": [
    {
     "data": {
      "text/plain": [
       "'Tushar'"
      ]
     },
     "execution_count": 13,
     "metadata": {},
     "output_type": "execute_result"
    }
   ],
   "source": [
    "p.name"
   ]
  },
  {
   "cell_type": "code",
   "execution_count": 14,
   "metadata": {},
   "outputs": [
    {
     "data": {
      "text/plain": [
       "20"
      ]
     },
     "execution_count": 14,
     "metadata": {},
     "output_type": "execute_result"
    }
   ],
   "source": [
    "p.age"
   ]
  },
  {
   "cell_type": "code",
   "execution_count": 39,
   "metadata": {},
   "outputs": [],
   "source": [
    "class Person:\n",
    "    def set_details(self,name,age):\n",
    "        self.name = name\n",
    "        self.age = age\n",
    "    def display(self):\n",
    "        print(\"I am \",self.name)\n",
    "    def greet(self):\n",
    "        if self.age >60:\n",
    "            print(\"You are above 60\")\n",
    "        else:\n",
    "            print(\"Hii, How are you bro!\")\n",
    "#         self.display()"
   ]
  },
  {
   "cell_type": "code",
   "execution_count": 40,
   "metadata": {},
   "outputs": [],
   "source": [
    "p1 = Person()"
   ]
  },
  {
   "cell_type": "code",
   "execution_count": 41,
   "metadata": {},
   "outputs": [],
   "source": [
    "p1.set_details('Tushar',75)"
   ]
  },
  {
   "cell_type": "code",
   "execution_count": 42,
   "metadata": {},
   "outputs": [
    {
     "name": "stdout",
     "output_type": "stream",
     "text": [
      "I am  Tushar\n"
     ]
    }
   ],
   "source": [
    "p1.display()\n"
   ]
  },
  {
   "cell_type": "code",
   "execution_count": 43,
   "metadata": {},
   "outputs": [
    {
     "name": "stdout",
     "output_type": "stream",
     "text": [
      "You are above 60\n"
     ]
    }
   ],
   "source": [
    "p1.greet()"
   ]
  },
  {
   "cell_type": "markdown",
   "metadata": {},
   "source": [
    "## Important Points\n",
    "<ul><li>Execution of a class statement creates a class object and binds it to the class name</li>\n",
    "<li>Instantiation of the class creates new instance objects</li>\n",
    "<li>Instance objects are first class objects in python</li>\n",
    "<li>Class objects are also first class objects in python</li>\n",
    "methods are defines inside the class using the def statement</li>\n",
    "<li>Inside the method definition, the first parameter should be self</li>\n",
    "<li>instance variable can be created inside any method, by asssigning to a variable name prefixed with self\n",
    "<pre>self.variablename = value</pre></li>\n",
    "<li>To reference an instance variable inside any method, you have to prefix the variable name with self\n",
    "    <pre>print(self.variablename)</pre>\n",
    "</li>\n",
    "<li>To call a method inside another method, you have to prefix the method name with self\n",
    "    <pre>self.methodname()</pre>\n",
    "</li>\n",
    "</ul>"
   ]
  },
  {
   "cell_type": "markdown",
   "metadata": {},
   "source": [
    "### Quiz\n",
    "1.What will be the output -\n",
    "<pre>\n",
    "class Test:\n",
    "    pass\n",
    " \n",
    "t1 = Test()\n",
    "t2 = Test()\n",
    "print(t1 == t2, end=' ')\n",
    "print(type(t1) == type(t2), end=' ')</pre>\n",
    "\n",
    "\n",
    "<b>Ans:-</b>False True"
   ]
  },
  {
   "cell_type": "markdown",
   "metadata": {},
   "source": [
    "2. The class object is created when ______________\n",
    "\n",
    "<b>Ans</b> The class definition is executed"
   ]
  },
  {
   "cell_type": "markdown",
   "metadata": {},
   "source": [
    "3.In a method definition, the parameter self refers to the\n",
    "\n",
    "<b>Ans</b> Instance object that invokes the method"
   ]
  },
  {
   "cell_type": "markdown",
   "metadata": {},
   "source": [
    "4. If you create a method that doesn't need any arguments, you don't have to specify any parameters in the function definition.\n",
    "\n",
    "<b>Ans</b> False"
   ]
  },
  {
   "cell_type": "markdown",
   "metadata": {},
   "source": [
    "5. Instantiation of the class creates a new _______ object.\n",
    "\n",
    "<b>Ans</b> Instance"
   ]
  },
  {
   "cell_type": "markdown",
   "metadata": {},
   "source": [
    "6. While calling a method, it is optional to provide an argument for parameter self. If you don’t provide an argument for self, it will be provided by the interpreter.\n",
    "\n",
    "<b>Ans</b> False\n",
    "<br>\n",
    "7. <pre>\n",
    "class Test:\n",
    "       def method1(self):\n",
    "             print('Inside method1')\n",
    "       \n",
    "       def method2(self):\n",
    "            print('Inside method2')\n",
    "            method1() \n",
    " \n",
    "t = Test()\n",
    "t.method2()\n",
    "</pre>\n",
    "Is there anything wrong in this code.\n",
    "\n",
    "\n",
    "<b>Ans</b>Yes, The call to method1 should be prefixed with self and a dot.\n",
    "<br>\n",
    "8. <pre>\n",
    "class Test:\n",
    "       def method1(self):\n",
    "             x = 12\n",
    "       \n",
    "       def method2(self):\n",
    "           self.y = 10\n",
    "\n",
    "\n",
    "\n",
    "</pre>\n",
    "What are x and y?\n",
    "\n",
    "<b>Ans</b> y is instance variable and x is local variable\n",
    "<br>\n",
    "9.<pre>\n",
    "class Test:\n",
    "       def method1(self):\n",
    "             self.x = 10\n",
    "       \n",
    "       def display(self):\n",
    "            print(self.x)\n",
    " \n",
    "t = Test()\n",
    "t.display()\n",
    "</pre>\n",
    "What will be the output?\n",
    "\n",
    "<b>Ans</b> Error, method1 was not called so instance variable x was not created for instance object t.\n",
    "<br>\n",
    "10.<pre>\n",
    "class Test:\n",
    "       def method1(self,x):\n",
    "             self.x = x\n",
    "       \n",
    "       def method2(self):\n",
    "             x += 10\n",
    "       \n",
    "       def display(self):\n",
    "            print(self.x)\n",
    " \n",
    "t = Test()\n",
    "t.method1(5)\n",
    "t.method2()\n",
    "t.display()\n",
    "</pre>\n",
    "what will be the output?\n",
    "<b>Ans</b> Error, x inside method2 was not prefixed with self, so it is considered a local variable."
   ]
  },
  {
   "cell_type": "markdown",
   "metadata": {},
   "source": [
    "## Exercise--\n",
    "Make a class that represents a bank account. Create four methods named set_details, display, withdraw and deposit.\n",
    "\n",
    "In the set_details method, create two instance variables : name and balance. The default value for balance should be zero. In the display method, display the values of these two instance variables.\n",
    "\n",
    "Both the methods withdraw and deposit have amount as parameter. Inside withdraw, subtract the amount from balance and inside deposit, add the amount to the balance.\n",
    "\n",
    "Create two instances of this class and call the methods on those instances."
   ]
  },
  {
   "cell_type": "code",
   "execution_count": 45,
   "metadata": {},
   "outputs": [],
   "source": [
    "class Bank:\n",
    "    def set_details(self,name,balance=0):\n",
    "        self.name = name\n",
    "        self.balance = balance\n",
    "    def display(self):\n",
    "        print(\"Name is:\",self.name)\n",
    "        print(\"Balance is : \",self.balance)\n",
    "    def withdraw(self,amount):\n",
    "#         self.amount = amount\n",
    "        self.balance = self.balance - amount\n",
    "    def deposit(self,amount):\n",
    "#         self.amount = amount\n",
    "        self.balance = self.balance + amount\n",
    "    "
   ]
  },
  {
   "cell_type": "code",
   "execution_count": 46,
   "metadata": {},
   "outputs": [],
   "source": [
    "mybank = Bank()"
   ]
  },
  {
   "cell_type": "code",
   "execution_count": 47,
   "metadata": {},
   "outputs": [],
   "source": [
    "mybank.set_details('Tushar',500)"
   ]
  },
  {
   "cell_type": "code",
   "execution_count": 48,
   "metadata": {},
   "outputs": [
    {
     "name": "stdout",
     "output_type": "stream",
     "text": [
      "Name is: Tushar\n",
      "Balance is :  500\n"
     ]
    }
   ],
   "source": [
    "mybank.display()"
   ]
  },
  {
   "cell_type": "code",
   "execution_count": 49,
   "metadata": {},
   "outputs": [],
   "source": [
    "mybank.deposit(200)"
   ]
  },
  {
   "cell_type": "code",
   "execution_count": 50,
   "metadata": {},
   "outputs": [
    {
     "name": "stdout",
     "output_type": "stream",
     "text": [
      "Name is: Tushar\n",
      "Balance is :  700\n"
     ]
    }
   ],
   "source": [
    "mybank.display()"
   ]
  },
  {
   "cell_type": "code",
   "execution_count": 51,
   "metadata": {},
   "outputs": [],
   "source": [
    "mybank.withdraw(300)"
   ]
  },
  {
   "cell_type": "code",
   "execution_count": 52,
   "metadata": {},
   "outputs": [
    {
     "name": "stdout",
     "output_type": "stream",
     "text": [
      "Name is: Tushar\n",
      "Balance is :  400\n"
     ]
    }
   ],
   "source": [
    "mybank.display()"
   ]
  },
  {
   "cell_type": "code",
   "execution_count": null,
   "metadata": {},
   "outputs": [],
   "source": []
  }
 ],
 "metadata": {
  "kernelspec": {
   "display_name": "Python 3",
   "language": "python",
   "name": "python3"
  },
  "language_info": {
   "codemirror_mode": {
    "name": "ipython",
    "version": 3
   },
   "file_extension": ".py",
   "mimetype": "text/x-python",
   "name": "python",
   "nbconvert_exporter": "python",
   "pygments_lexer": "ipython3",
   "version": "3.8.2"
  }
 },
 "nbformat": 4,
 "nbformat_minor": 4
}
