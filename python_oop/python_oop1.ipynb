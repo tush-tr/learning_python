{
 "cells": [
  {
   "cell_type": "markdown",
   "metadata": {},
   "source": [
    "## Introduction to Object Oriented Programming\n",
    "### Programming paradigm\n",
    "Programming paradigm is an approach to organize and structure your code.<br>\n",
    "It is actually a style of programming.<br>\n",
    "The two common programming paradigms are <b>procedural programming paradigm\n",
    "</b>and <b>object oriented programming</b><br><p>\n",
    "    In the <b>procedural paradigm,</b> there is a step by step procedure that is followed sequentially\n",
    "for solving a specific problem.<b>\n",
    "    It is implemented through code blocks called functions</b>.</p>\n",
    "<br>\n",
    "<p>\n",
    "    In <b>object oriented programming,</b> real world entities or concepts are modelled using objects.<br>\n",
    "An object has both state and behaviour, means it contains both data and code to manipulate\n",
    "that data.\n",
    "</p><p>\n",
    "So in procedural programming, you model your program in terms of functions and in object\n",
    "oriented programming you model your program in terms of objects.</p>\n"
   ]
  },
  {
   "cell_type": "markdown",
   "metadata": {},
   "source": [
    "## Programming Languages for object oriented programming\n",
    "Programming languages are designed such that they provide features to support one or more programming paradigms.\n",
    "#### Example:-\n",
    "<b>C Language</b> is a procedural programming language as it has functions, but it has no features for object oriented programming.\n",
    "<b>Java and C# </b>are examples of object oriented languages.\n",
    "<b>Python </b>is flexible, as it supports both these programming paradigms and it is upto the\n",
    "\n",
    "programmers to choose the suitable one according to their problem, you can even mix both the approaches\n",
    "\n",
    "to accomplish your specific task."
   ]
  },
  {
   "cell_type": "markdown",
   "metadata": {},
   "source": [
    "# Classes and Objects\n",
    "\n",
    "the common terms used in object oriented programming."
   ]
  },
  {
   "cell_type": "markdown",
   "metadata": {},
   "source": [
    "When we need to create an object of integer or string type we can use built in types,\n",
    "\n",
    "but when we have to create different type of objects that our program requires, we have\n",
    "\n",
    "to define our own type."
   ]
  },
  {
   "cell_type": "markdown",
   "metadata": {},
   "source": [
    "### Classes\n",
    "A class is a blueprint for creating the objects.<br>\n",
    "A class actually specifies what data its objects will have and what behaviour will they exhibit.<br>\n",
    "When we define a class, we create a new type."
   ]
  },
  {
   "cell_type": "markdown",
   "metadata": {},
   "source": [
    "### Objects\n",
    "The values of this new type are called instances or objects of that type\n",
    "<br>\n",
    "Creating a new instance of the class is called instantiation."
   ]
  },
  {
   "cell_type": "markdown",
   "metadata": {},
   "source": [
    "### Methods\n",
    "Classes encapsulate state and behaviour together.\n",
    "<br>This is called<b> encapsulation.</b>\n",
    "<br>\n",
    "<b>State</b> is maintained through variables which are also called data members and behaviour is implemented through methods, <b>methods </b>are like functions but they are defined within a class.\n",
    "<br>\n",
    "So a class defines what data and methods should the object have, and the objects contain the actual data. And instantiation means creating an object using a class as the blueprint."
   ]
  },
  {
   "cell_type": "markdown",
   "metadata": {},
   "source": [
    "This means that the methods defined in the class are shared by all the objects, there\n",
    "is only one copy of each method which is used by all the objects.\n",
    "While each object maintains its own copy of variables."
   ]
  },
  {
   "cell_type": "markdown",
   "metadata": {},
   "source": [
    "## Advantages of Object Oriented Programming\n",
    "#### Code  reusability\n",
    "1.Classes that you define can be used by different applications.<br>\n",
    "#### Inheritance\n",
    "2.Then you can <b>inherit</b> from these classes to make new classes.This reduces development time and effort.<br>\n",
    "#### Data Security\n",
    "3.Then there is a sort of <b>data security</b> as the data is encapsulated inside the object and\n",
    "hence there are less chances of it being misused by other parts of the program.\n",
    "#### Abstraction\n",
    "You can hide all the inner working of the class from the user of the class.\n",
    "This hiding of the internal working of a complicated system from its user is called abstraction.\n",
    "#### Polymorphism\n",
    "which means one thing many forms can also be implemented in object oriented\n",
    "programming."
   ]
  },
  {
   "cell_type": "code",
   "execution_count": null,
   "metadata": {},
   "outputs": [],
   "source": []
  }
 ],
 "metadata": {
  "kernelspec": {
   "display_name": "Python 3",
   "language": "python",
   "name": "python3"
  },
  "language_info": {
   "codemirror_mode": {
    "name": "ipython",
    "version": 3
   },
   "file_extension": ".py",
   "mimetype": "text/x-python",
   "name": "python",
   "nbconvert_exporter": "python",
   "pygments_lexer": "ipython3",
   "version": "3.8.2"
  }
 },
 "nbformat": 4,
 "nbformat_minor": 4
}
